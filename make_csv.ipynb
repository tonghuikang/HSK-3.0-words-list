{
 "cells": [
  {
   "cell_type": "code",
   "execution_count": 1,
   "id": "0dd3d5f8",
   "metadata": {},
   "outputs": [
    {
     "data": {
      "text/plain": [
       "'jue2 qiang2'"
      ]
     },
     "execution_count": 1,
     "metadata": {},
     "output_type": "execute_result"
    }
   ],
   "source": [
    "import pinyin\n",
    "pinyin.get(\"倔强\", format=\"numerical\", delimiter=\" \")  # wrong"
   ]
  },
  {
   "cell_type": "code",
   "execution_count": 2,
   "id": "005b9d9c",
   "metadata": {},
   "outputs": [
    {
     "name": "stderr",
     "output_type": "stream",
     "text": [
      "Building prefix dict from the default dictionary ...\n",
      "Loading model from cache /var/folders/j8/rw6twq8552v0b07d2m72b6_40000gp/T/jieba.cache\n",
      "Loading model cost 0.416 seconds.\n",
      "Prefix dict has been built successfully.\n"
     ]
    },
    {
     "data": {
      "text/plain": [
       "'jue2 jiang4'"
      ]
     },
     "execution_count": 2,
     "metadata": {},
     "output_type": "execute_result"
    }
   ],
   "source": [
    "import pinyin_jyutping_sentence\n",
    "pinyin_jyutping_sentence.pinyin(\"倔强\", tone_numbers=True, spaces=True)"
   ]
  },
  {
   "cell_type": "code",
   "execution_count": 3,
   "id": "477bf554",
   "metadata": {},
   "outputs": [
    {
     "name": "stdout",
     "output_type": "stream",
     "text": [
      "HSK list with meaning/HSK 1.tsv\n",
      "HSK list with meaning/HSK 2.tsv\n",
      "HSK list with meaning/HSK 3.tsv\n",
      "HSK list with meaning/HSK 4.tsv\n",
      "HSK list with meaning/HSK 5.tsv\n",
      "HSK list with meaning/HSK 6.tsv\n",
      "HSK list with meaning/HSK 7-9.tsv\n"
     ]
    }
   ],
   "source": [
    "import glob\n",
    "import pandas as pd\n",
    "import pinyin\n",
    "\n",
    "dfs = []\n",
    "\n",
    "for filename in sorted(glob.glob(\"HSK list with meaning/*.tsv\")):\n",
    "    if \"Anki\" in filename:\n",
    "        continue\n",
    "    print(filename)\n",
    "    df = pd.read_csv(filename, sep=\"\\t\", names=[\"traditional\", \"simplified\", \"pinyin\", \"translation\"])\n",
    "    df[\"level\"] = int(filename[26])\n",
    "    df[\"numerical_pinyin\"] = [\n",
    "        pinyin_jyutping_sentence.pinyin(word, tone_numbers=True, spaces=True).lower().replace(\"5\", \"\")\n",
    "        for word in df[\"simplified\"]]\n",
    "    df[\"pinyin_check\"] = [\n",
    "        pinyin_jyutping_sentence.pinyin(word, spaces=False)\n",
    "        for word in df[\"simplified\"]]\n",
    "    dfs.append(df)"
   ]
  },
  {
   "cell_type": "code",
   "execution_count": 4,
   "id": "7c24b5c7",
   "metadata": {},
   "outputs": [],
   "source": [
    "?pinyin_jyutping_sentence.pinyin"
   ]
  },
  {
   "cell_type": "code",
   "execution_count": 5,
   "id": "326a0121",
   "metadata": {},
   "outputs": [],
   "source": [
    "df = pd.concat(dfs, ignore_index=True)"
   ]
  },
  {
   "cell_type": "code",
   "execution_count": 6,
   "id": "bcfad822",
   "metadata": {},
   "outputs": [
    {
     "data": {
      "text/plain": [
       "False"
      ]
     },
     "execution_count": 6,
     "metadata": {},
     "output_type": "execute_result"
    }
   ],
   "source": [
    "\"báitian\" == \"báitiān\""
   ]
  },
  {
   "cell_type": "code",
   "execution_count": 7,
   "id": "c948d78b",
   "metadata": {},
   "outputs": [],
   "source": [
    "df[\"exclude\"] = (\n",
    "    df[\"pinyin\"].str.replace(\" \", \"\").str.replace(\"-\", \"\").str.lower()\n",
    "    != df[\"pinyin_check\"].str.replace(\" \", \"\").str.lower()\n",
    ")"
   ]
  },
  {
   "cell_type": "code",
   "execution_count": 8,
   "id": "04ca38d7",
   "metadata": {},
   "outputs": [],
   "source": [
    "df.to_csv(\"chinese_words.csv\", index=False)"
   ]
  },
  {
   "cell_type": "code",
   "execution_count": null,
   "id": "c9930be4",
   "metadata": {},
   "outputs": [],
   "source": []
  }
 ],
 "metadata": {
  "kernelspec": {
   "display_name": "Python 3 (ipykernel)",
   "language": "python",
   "name": "python3"
  },
  "language_info": {
   "codemirror_mode": {
    "name": "ipython",
    "version": 3
   },
   "file_extension": ".py",
   "mimetype": "text/x-python",
   "name": "python",
   "nbconvert_exporter": "python",
   "pygments_lexer": "ipython3",
   "version": "3.9.7"
  }
 },
 "nbformat": 4,
 "nbformat_minor": 5
}
